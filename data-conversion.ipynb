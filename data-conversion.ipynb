{
 "cells": [
  {
   "cell_type": "code",
   "execution_count": 2,
   "id": "01aeb8b1",
   "metadata": {},
   "outputs": [],
   "source": [
    "from hepconvert import parquet_to_root"
   ]
  },
  {
   "cell_type": "code",
   "execution_count": null,
   "id": "0ca38179",
   "metadata": {},
   "outputs": [],
   "source": [
    "qg_datapath = \"/mnt/c/Interpretability_Data/QuarkGluon/test_file_0.parquet\"\n",
    "tl_datapath = \"/mnt/c/Interpretability_Data/TopLandscape/test_file.parquet\"\n",
    "jck_datapath = \"/mnt/c/Interpretability_Data/JetClass/HtoBB_102.parquet\"\n",
    "\n",
    "#parquet_to_root(\"qg_test_file_0.root\", qg_datapath, name=\"tree\", force=True)\n",
    "#parquet_to_root(\"tl_test_file_0.root\", tl_datapath, name=\"tree\", force=True)"
   ]
  }
 ],
 "metadata": {
  "kernelspec": {
   "display_name": "data-conversion",
   "language": "python",
   "name": "python3"
  },
  "language_info": {
   "codemirror_mode": {
    "name": "ipython",
    "version": 3
   },
   "file_extension": ".py",
   "mimetype": "text/x-python",
   "name": "python",
   "nbconvert_exporter": "python",
   "pygments_lexer": "ipython3",
   "version": "3.13.5"
  }
 },
 "nbformat": 4,
 "nbformat_minor": 5
}

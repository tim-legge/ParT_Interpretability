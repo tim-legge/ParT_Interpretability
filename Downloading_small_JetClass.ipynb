{
 "cells": [
  {
   "cell_type": "code",
   "execution_count": null,
   "id": "7ff0e8c5",
   "metadata": {},
   "outputs": [],
   "source": [
    "# Downloading JetClass small dataset"
   ]
  },
  {
   "cell_type": "code",
   "execution_count": 1,
   "id": "9de8687a",
   "metadata": {},
   "outputs": [],
   "source": [
    "import numpy as np\n",
    "import awkward as ak\n",
    "import uproot\n",
    "import vector\n",
    "vector.register_awkward()"
   ]
  },
  {
   "cell_type": "code",
   "execution_count": 2,
   "id": "71a11b62",
   "metadata": {},
   "outputs": [],
   "source": [
    "import os\n",
    "import shutil\n",
    "import zipfile\n",
    "import tarfile\n",
    "import urllib\n",
    "import requests\n",
    "from tqdm import tqdm"
   ]
  },
  {
   "cell_type": "code",
   "execution_count": 3,
   "id": "5248cde5",
   "metadata": {},
   "outputs": [],
   "source": [
    "def _download(url, fname, chunk_size=1024):\n",
    "    '''https://gist.github.com/yanqd0/c13ed29e29432e3cf3e7c38467f42f51'''\n",
    "    resp = requests.get(url, stream=True)\n",
    "    total = int(resp.headers.get('content-length', 0))\n",
    "    with open(fname, 'wb') as file, tqdm(\n",
    "        desc=fname,\n",
    "        total=total,\n",
    "        unit='iB',\n",
    "        unit_scale=True,\n",
    "        unit_divisor=1024,\n",
    "    ) as bar:\n",
    "        for data in resp.iter_content(chunk_size=chunk_size):\n",
    "            size = file.write(data)\n",
    "            bar.update(size)"
   ]
  },
  {
   "cell_type": "code",
   "execution_count": 4,
   "id": "a7df46e3",
   "metadata": {},
   "outputs": [
    {
     "name": "stderr",
     "output_type": "stream",
     "text": [
      "JetClass_example_100k.root: 100%|██████████| 130M/130M [00:08<00:00, 15.3MiB/s] \n"
     ]
    }
   ],
   "source": [
    "# Download the example file\n",
    "example_file = 'JetClass_example_100k.root'\n",
    "if not os.path.exists(example_file):\n",
    "    _download('https://hqu.web.cern.ch/datasets/JetClass/example/JetClass_example_100k.root', example_file)"
   ]
  },
  {
   "cell_type": "markdown",
   "id": "8621bdbb",
   "metadata": {},
   "source": [
    "Exploring the File"
   ]
  },
  {
   "cell_type": "code",
   "execution_count": 5,
   "id": "a1c93b08",
   "metadata": {},
   "outputs": [],
   "source": [
    "# Load the content from the file\n",
    "tree = uproot.open(example_file)['tree']"
   ]
  },
  {
   "cell_type": "code",
   "execution_count": 6,
   "id": "839235f9",
   "metadata": {},
   "outputs": [
    {
     "name": "stdout",
     "output_type": "stream",
     "text": [
      "name                 | typename                 | interpretation                \n",
      "---------------------+--------------------------+-------------------------------\n",
      "part_px              | std::vector<float>       | AsJagged(AsDtype('>f4'), he...\n",
      "part_py              | std::vector<float>       | AsJagged(AsDtype('>f4'), he...\n",
      "part_pz              | std::vector<float>       | AsJagged(AsDtype('>f4'), he...\n",
      "part_energy          | std::vector<float>       | AsJagged(AsDtype('>f4'), he...\n",
      "part_deta            | std::vector<float>       | AsJagged(AsDtype('>f4'), he...\n",
      "part_dphi            | std::vector<float>       | AsJagged(AsDtype('>f4'), he...\n",
      "part_d0val           | std::vector<float>       | AsJagged(AsDtype('>f4'), he...\n",
      "part_d0err           | std::vector<float>       | AsJagged(AsDtype('>f4'), he...\n",
      "part_dzval           | std::vector<float>       | AsJagged(AsDtype('>f4'), he...\n",
      "part_dzerr           | std::vector<float>       | AsJagged(AsDtype('>f4'), he...\n",
      "part_charge          | std::vector<float>       | AsJagged(AsDtype('>f4'), he...\n",
      "part_isChargedHadron | std::vector<int32_t>     | AsJagged(AsDtype('>i4'), he...\n",
      "part_isNeutralHadron | std::vector<int32_t>     | AsJagged(AsDtype('>i4'), he...\n",
      "part_isPhoton        | std::vector<int32_t>     | AsJagged(AsDtype('>i4'), he...\n",
      "part_isElectron      | std::vector<int32_t>     | AsJagged(AsDtype('>i4'), he...\n",
      "part_isMuon          | std::vector<int32_t>     | AsJagged(AsDtype('>i4'), he...\n",
      "label_QCD            | float                    | AsDtype('>f4')\n",
      "label_Hbb            | bool                     | AsDtype('bool')\n",
      "label_Hcc            | bool                     | AsDtype('bool')\n",
      "label_Hgg            | bool                     | AsDtype('bool')\n",
      "label_H4q            | bool                     | AsDtype('bool')\n",
      "label_Hqql           | bool                     | AsDtype('bool')\n",
      "label_Zqq            | int32_t                  | AsDtype('>i4')\n",
      "label_Wqq            | int32_t                  | AsDtype('>i4')\n",
      "label_Tbqq           | int32_t                  | AsDtype('>i4')\n",
      "label_Tbl            | int32_t                  | AsDtype('>i4')\n",
      "jet_pt               | float                    | AsDtype('>f4')\n",
      "jet_eta              | float                    | AsDtype('>f4')\n",
      "jet_phi              | float                    | AsDtype('>f4')\n",
      "jet_energy           | float                    | AsDtype('>f4')\n",
      "jet_nparticles       | float                    | AsDtype('>f4')\n",
      "jet_sdmass           | float                    | AsDtype('>f4')\n",
      "jet_tau1             | float                    | AsDtype('>f4')\n",
      "jet_tau2             | float                    | AsDtype('>f4')\n",
      "jet_tau3             | float                    | AsDtype('>f4')\n",
      "jet_tau4             | float                    | AsDtype('>f4')\n",
      "aux_genpart_eta      | float                    | AsDtype('>f4')\n",
      "aux_genpart_phi      | float                    | AsDtype('>f4')\n",
      "aux_genpart_pid      | float                    | AsDtype('>f4')\n",
      "aux_genpart_pt       | float                    | AsDtype('>f4')\n",
      "aux_truth_match      | float                    | AsDtype('>f4')\n"
     ]
    }
   ],
   "source": [
    "# Display the content of the \"tree\"\n",
    "tree.show()"
   ]
  },
  {
   "cell_type": "code",
   "execution_count": null,
   "id": "a56b5734",
   "metadata": {},
   "outputs": [],
   "source": [
    "# Load all arrays in the tree\n",
    "# Each array is a column of the table\n",
    "table = tree.arrays()"
   ]
  },
  {
   "cell_type": "code",
   "execution_count": null,
   "id": "c8f840ee",
   "metadata": {},
   "outputs": [
    {
     "data": {
      "text/plain": [
       "array([0., 0., 0., ..., 0., 0., 0.], dtype=float32)"
      ]
     },
     "execution_count": 8,
     "metadata": {},
     "output_type": "execute_result"
    }
   ],
   "source": [
    "# Arrays of a scalar type (bool/int/float) can be converted to a numpy array directly, e.g.\n",
    "table['label_QCD'].to_numpy()"
   ]
  },
  {
   "cell_type": "code",
   "execution_count": 9,
   "id": "dc93b215",
   "metadata": {},
   "outputs": [
    {
     "data": {
      "text/html": [
       "<pre>[[-125, -91.1, -83.2, -68.9, -66.8, ..., -1.51, -1.47, -1.48, -1.19, -1.14],\n",
       " [110, 27.9, 20.9, 12, 7.98, 7.92, ..., 0.585, -0.23, -0.25, -0.189, 0.225],\n",
       " [129, 81.7, 22.8, 23.1, 20.1, 17.2, ..., 1.28, 1.17, 0.966, 0.771, 0.616],\n",
       " [91.2, 83.4, 65.3, 48.2, 51.6, 26.4, ..., 2.01, 2.29, 1.32, 1.32, 1.04, 0.698],\n",
       " [-168, -52.9, -25.7, -25.1, -20.3, ..., -0.592, -0.782, -0.523, -0.473],\n",
       " [210, 145, 84, 74.4, 69.4, 32.9, ..., 1.49, 1.18, 1.06, 1.12, 0.976, 0.738],\n",
       " [24.4, 36, 12.1, 16.2, 9.35, 13.9, ..., 0.53, 0.882, 1.1, 0.633, 0.747],\n",
       " [-53.2, -45.9, -37.9, -34.2, -19.3, ..., -1.02, -1.08, -0.853, -0.918, -0.674],\n",
       " [47.9, 40.8, 35.2, 32.9, 30.5, 26.4, ..., 1.92, 1.48, 1.22, 1.29, 1.14, 0.859],\n",
       " [-49.4, -15.8, -13.1, 1.79, -5.62, ..., 0.134, -0.37, -0.101, -0.58, -0.983],\n",
       " ...,\n",
       " [-214, -138, -54.3, -36.3, -30.5, ..., -2.52, -2.45, -2.22, -1.71, -1.43],\n",
       " [6.1, 3.21, 3.15, 2.31, 2.65, ..., 0.25, 0.363, 0.0739, 0.00568, -0.0376],\n",
       " [-70.7, -54.7, -39.5, -49.6, -38.8, ..., -1.18, -1.19, -0.883, -0.368, -0.442],\n",
       " [11.6, -3.48, 7.44, 6.67, -2.4, ..., 0.283, -0.14, 0.338, 0.0406, 0.0368],\n",
       " [76.4, 57, 42.4, 30.9, 22.8, 21.6, ..., 0.966, 0.805, 0.692, 0.62, 0.956],\n",
       " [88.9, 75.7, 67.5, 35.3, 33.2, 27.8, ..., 1.65, 1.4, 1.05, 0.791, 0.866],\n",
       " [96.5, 61.3, 50.5, 23.4, 15.1, 14.4, ..., 2.34, 2.03, 1.85, 1.35, 1.34, 1.23],\n",
       " [-32.9, -30.2, -29.4, -20.3, -14.7, ..., -0.925, -0.549, -0.471, -0.396],\n",
       " [-122, -76.4, -35.3, -33.8, -34.3, ..., -1.27, -1.23, -1.01, -0.735, -0.694]]\n",
       "--------------------------------------------------------------------------------\n",
       "type: 100000 * var * float32</pre>"
      ],
      "text/plain": [
       "<Array [[-125, -91.1, ..., -1.19, -1.14], ...] type='100000 * var * float32'>"
      ]
     },
     "execution_count": 9,
     "metadata": {},
     "output_type": "execute_result"
    }
   ],
   "source": [
    "# Arrays of a vector type are loaded as a JaggedArray that has varying elements per row\n",
    "table['part_px']\n",
    "\n",
    "# A JaggedArray can be (zero-) padded to become a regular numpy array (see later)"
   ]
  },
  {
   "cell_type": "code",
   "execution_count": 10,
   "id": "26b1e11d",
   "metadata": {},
   "outputs": [],
   "source": [
    "# Construct a Lorentz 4-vector from the (px, py, pz, energy) arrays\n",
    "p4 = vector.zip({'px': table['part_px'], 'py': table['part_py'], 'pz': table['part_pz'], 'energy': table['part_energy']})"
   ]
  },
  {
   "cell_type": "code",
   "execution_count": 11,
   "id": "1ad739a7",
   "metadata": {},
   "outputs": [
    {
     "data": {
      "text/html": [
       "<pre>[[140, 95.3, 87.8, 72.3, 69.6, 46.9, ..., 1.77, 1.69, 1.57, 1.56, 1.24, 1.2],\n",
       " [245, 62.3, 45.2, 27, 18.4, 17.4, ..., 2.03, 1.19, 1.17, 1.1, 0.961, 0.541],\n",
       " [143, 91.5, 25.4, 23.9, 20.9, 19.5, ..., 1.61, 1.36, 1.21, 1.02, 0.785, 0.711],\n",
       " [157, 114, 110, 80.7, 70.9, 45.8, ..., 3.04, 3.03, 1.85, 1.62, 1.3, 1.01],\n",
       " [232, 73, 35.3, 34, 27.8, 25.7, 25, ..., 1.67, 1.4, 1.29, 1.17, 0.996, 0.915],\n",
       " [232, 149, 86.5, 76.3, 76.1, 33.9, ..., 1.64, 1.24, 1.2, 1.14, 1.13, 0.849],\n",
       " [68.3, 60.5, 35.1, 28.2, 26.1, 25, ..., 1.75, 1.51, 1.49, 1.48, 1.24, 1.23],\n",
       " [84.8, 75.5, 64.4, 56.2, 36.6, 28.7, ..., 1.82, 1.7, 1.7, 1.57, 1.51, 1.05],\n",
       " [52.3, 45, 36, 34, 30.9, 29.1, 22.6, ..., 1.95, 1.53, 1.34, 1.32, 1.14, 0.872],\n",
       " [279, 83.9, 70.6, 55.6, 32.7, 25.2, ..., 2.3, 2.05, 1.71, 1.61, 1.33, 1.32],\n",
       " ...,\n",
       " [226, 146, 57.6, 37.9, 32.2, 29, 23.8, ..., 2.97, 2.73, 2.6, 2.35, 1.78, 1.5],\n",
       " [155, 91.9, 53, 43, 38.3, 33.7, 21, ..., 2.45, 2.23, 1.84, 1.15, 1.09, 1.08],\n",
       " [105, 81.3, 58.3, 57.4, 51.2, 49, ..., 1.54, 1.4, 1.37, 1.18, 1.11, 0.814],\n",
       " [51.5, 37.1, 35.2, 30.7, 26.3, 26, ..., 2.18, 1.69, 1.59, 1.37, 1.07, 0.949],\n",
       " [84.9, 63.7, 47, 35, 25.4, 24.3, ..., 1.59, 1.56, 1.53, 1.14, 1.12, 0.999],\n",
       " [98.5, 83.6, 74.5, 39.1, 36.5, 30.4, ..., 1.98, 1.85, 1.57, 1.21, 1.17, 0.949],\n",
       " [158, 101, 79.8, 37.5, 25.2, 22.2, 20.2, ..., 3.88, 3.55, 3, 2.27, 1.97, 1.92],\n",
       " [88.7, 80.7, 79.1, 52.7, 36, 16, 14, ..., 3.48, 3.26, 2.37, 1.5, 1.44, 1.13],\n",
       " [171, 122, 59.7, 45.3, 45.2, 34.7, ..., 1.89, 1.79, 1.62, 1.37, 1.3, 0.919]]\n",
       "--------------------------------------------------------------------------------\n",
       "type: 100000 * var * float32</pre>"
      ],
      "text/plain": [
       "<Array [[140, 95.3, 87.8, ..., 1.24, 1.2], ...] type='100000 * var * float32'>"
      ]
     },
     "execution_count": 11,
     "metadata": {},
     "output_type": "execute_result"
    }
   ],
   "source": [
    "# Get the transverse momentum (pt)\n",
    "p4.pt"
   ]
  },
  {
   "cell_type": "code",
   "execution_count": 12,
   "id": "bf36d688",
   "metadata": {},
   "outputs": [
    {
     "data": {
      "text/html": [
       "<pre>[[-0.254, -0.403, -0.413, -0.416, -0.328, ..., -0.363, -0.385, -0.301, -0.428],\n",
       " [-1.39, -1.37, -1.41, -1.34, -1.39, ..., -1.36, -1.02, -1.06, -0.966, -1.91],\n",
       " [1.46, 1.44, 1.42, 1.99, 2.11, 1.46, ..., 1.34, 1.98, 1.51, 2.05, 2.05, 2.03],\n",
       " [1.38, 1.61, 1.38, 1.38, 1.6, 1.38, ..., 1.55, 1.53, 1.55, 0.861, 1.63, 1.31],\n",
       " [0.586, 0.588, 0.553, 0.578, 0.599, ..., 1.03, 0.982, 0.944, 1.17, 1.13],\n",
       " [-0.893, -0.823, -0.852, -0.834, -0.943, ..., -0.923, -1.37, -1.49, -1.24],\n",
       " [-0.624, -1.04, -0.623, -1.02, -0.608, ..., -1, -0.995, -0.658, -1.03, -1.04],\n",
       " [0.0996, 0.0872, 0.121, 0.111, 0.443, ..., 0.0631, 0.522, 0.0109, 0.53],\n",
       " [-1.13, -1.13, -0.711, -0.727, -0.686, ..., -1.14, -0.732, -1.08, -0.594],\n",
       " [-0.86, -0.787, -0.847, -0.806, -0.852, ..., -0.217, -1.64, -1.09, -1.24],\n",
       " ...,\n",
       " [-0.0579, -0.0591, -0.0616, -0.357, ..., -0.333, -0.311, -0.275, -0.103],\n",
       " [0.861, 0.843, 0.839, 0.847, 0.848, 0.858, ..., 1.16, 0.724, 1.18, 1.22, 1.2],\n",
       " [1.85, 1.85, 1.85, 1.83, 1.88, 1.85, ..., 2.02, 1.86, 1.88, 1.91, 1.94, 2.12],\n",
       " [-0.567, -0.539, -0.569, -0.557, -0.573, ..., -0.721, -0.536, -0.421, -0.747],\n",
       " [0.91, 0.9, 0.903, 0.907, 0.92, 0.916, ..., 0.559, 0.542, 0.636, 0.922, 0.865],\n",
       " [-0.266, -0.259, -0.27, -0.254, -0.255, ..., -0.31, -0.309, -0.168, -0.227],\n",
       " [-0.664, -0.681, -0.433, -0.351, -0.691, ..., -0.68, -0.412, -0.722, -0.314],\n",
       " [-0.622, -0.632, -0.62, -0.626, -0.634, ..., -0.415, -0.316, -0.592, -0.592],\n",
       " [-0.841, -1.12, -1.05, -0.821, -0.845, ..., -0.938, -0.834, -0.857, -0.935]]\n",
       "--------------------------------------------------------------------------------\n",
       "type: 100000 * var * float32</pre>"
      ],
      "text/plain": [
       "<Array [[-0.254, -0.403, ..., -0.428], ...] type='100000 * var * float32'>"
      ]
     },
     "execution_count": 12,
     "metadata": {},
     "output_type": "execute_result"
    }
   ],
   "source": [
    "p4.eta"
   ]
  },
  {
   "cell_type": "code",
   "execution_count": 13,
   "id": "a00e73f2",
   "metadata": {},
   "outputs": [
    {
     "data": {
      "text/html": [
       "<pre>[[2.67, 2.84, 2.81, 2.83, 2.86, 2.64, ..., 2.66, 2.68, 2.77, 2.83, 2.85, 2.84],\n",
       " [1.1, 1.11, 1.09, 1.11, 1.12, 1.1, ..., 1.85, 1.06, 1.77, 1.8, 1.77, 1.14],\n",
       " [-0.456, -0.466, -0.456, -0.26, -0.28, ..., -0.264, -0.316, -0.19, -0.524],\n",
       " [-0.951, -0.746, -0.933, -0.93, -0.755, ..., -0.776, -0.623, -0.649, -0.809],\n",
       " [2.38, 2.38, 2.39, 2.4, 2.39, 2.41, ..., 2.53, 2.17, 2.05, 2.3, 2.12, 2.11],\n",
       " [-0.43, -0.229, -0.239, -0.222, -0.423, ..., -0.49, -0.18, -0.529, -0.518],\n",
       " [1.21, 0.933, 1.22, 0.959, 1.2, 0.984, ..., 1.21, 0.937, 0.73, 1.03, 0.921],\n",
       " [2.25, 2.22, 2.2, 2.22, 2.13, 2.15, ..., 2.2, 2.22, 2.26, 2.15, 2.22, 2.27],\n",
       " [-0.417, -0.438, -0.211, -0.257, -0.158, ..., -0.425, -0.216, -0.0831, -0.178],\n",
       " [-1.75, -1.76, -1.76, -1.54, -1.74, ..., -1.51, -1.79, -1.63, -2.02, -2.42],\n",
       " ...,\n",
       " [2.81, 2.81, 2.8, 2.85, 2.82, 2.82, ..., 2.73, 2.75, 2.8, 2.81, 2.85, 2.83],\n",
       " [1.53, 1.54, 1.51, 1.52, 1.5, 1.52, ..., 1.54, 1.46, 1.37, 1.51, 1.57, 1.61],\n",
       " [-2.31, -2.31, -2.31, -2.61, -2.43, ..., -2.57, -2.62, -2.41, -1.91, -2.14],\n",
       " [-1.34, -1.66, -1.36, -1.35, -1.66, ..., -1.4, -1.66, -1.32, -1.53, -1.53],\n",
       " [-0.452, -0.462, -0.447, -0.49, -0.454, ..., -1.02, -0.918, -0.983, -0.294],\n",
       " [-0.445, -0.439, -0.437, -0.443, -0.429, ..., -0.47, -0.518, -0.831, -0.421],\n",
       " [0.912, 0.921, 0.886, 0.898, 0.925, ..., 0.962, 0.907, 0.934, 0.822, 0.877],\n",
       " [-1.95, -1.95, -1.95, -1.97, -1.99, ..., -2.19, -1.97, -1.94, -1.9, -1.93],\n",
       " [-2.36, -2.25, -2.2, -2.41, -2.43, ..., -2.36, -2.43, -2.41, -2.17, -2.43]]\n",
       "--------------------------------------------------------------------------------\n",
       "type: 100000 * var * float32</pre>"
      ],
      "text/plain": [
       "<Array [[2.67, 2.84, 2.81, ..., 2.85, 2.84], ...] type='100000 * var * float32'>"
      ]
     },
     "execution_count": 13,
     "metadata": {},
     "output_type": "execute_result"
    }
   ],
   "source": [
    "p4.phi"
   ]
  },
  {
   "cell_type": "code",
   "execution_count": 14,
   "id": "cd6802ab",
   "metadata": {},
   "outputs": [],
   "source": [
    "def _pad(a, maxlen, value=0, dtype='float32'):\n",
    "    if isinstance(a, np.ndarray) and a.ndim >= 2 and a.shape[1] == maxlen:\n",
    "        return a\n",
    "    elif isinstance(a, ak.Array):\n",
    "        if a.ndim == 1:\n",
    "            a = ak.unflatten(a, 1)\n",
    "        a = ak.fill_none(ak.pad_none(a, maxlen, clip=True), value)\n",
    "        return ak.values_astype(a, dtype)\n",
    "    else:\n",
    "        x = (np.ones((len(a), maxlen)) * value).astype(dtype)\n",
    "        for idx, s in enumerate(a):\n",
    "            if not len(s):\n",
    "                continue\n",
    "            trunc = s[:maxlen].astype(dtype)\n",
    "            x[idx, :len(trunc)] = trunc\n",
    "        return x"
   ]
  },
  {
   "cell_type": "code",
   "execution_count": 15,
   "id": "6355b0d5",
   "metadata": {},
   "outputs": [
    {
     "data": {
      "text/plain": [
       "array([[140.19296 ,  95.284584,  87.84807 , ...,   0.      ,   0.      ,\n",
       "          0.      ],\n",
       "       [244.67009 ,  62.332603,  45.159416, ...,   0.      ,   0.      ,\n",
       "          0.      ],\n",
       "       [143.15791 ,  91.48589 ,  25.372644, ...,   0.      ,   0.      ,\n",
       "          0.      ],\n",
       "       ...,\n",
       "       [157.69547 , 101.245445,  79.816284, ...,   0.      ,   0.      ,\n",
       "          0.      ],\n",
       "       [ 88.65814 ,  80.69194 ,  79.14036 , ...,   0.      ,   0.      ,\n",
       "          0.      ],\n",
       "       [171.13641 , 121.71926 ,  59.68036 , ...,   0.      ,   0.      ,\n",
       "          0.      ]], dtype=float32)"
      ]
     },
     "execution_count": 15,
     "metadata": {},
     "output_type": "execute_result"
    }
   ],
   "source": [
    "# Apply zero-padding and convert to a numpy array\n",
    "_pad(p4.pt, maxlen=128).to_numpy()"
   ]
  }
 ],
 "metadata": {
  "kernelspec": {
   "display_name": "tensorflow",
   "language": "python",
   "name": "python3"
  },
  "language_info": {
   "codemirror_mode": {
    "name": "ipython",
    "version": 3
   },
   "file_extension": ".py",
   "mimetype": "text/x-python",
   "name": "python",
   "nbconvert_exporter": "python",
   "pygments_lexer": "ipython3",
   "version": "3.7.16"
  }
 },
 "nbformat": 4,
 "nbformat_minor": 5
}
